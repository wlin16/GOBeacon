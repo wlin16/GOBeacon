{
 "cells": [
  {
   "cell_type": "code",
   "execution_count": 109,
   "metadata": {},
   "outputs": [],
   "source": [
    "# 1. Process CAFA3 training set"
   ]
  },
  {
   "cell_type": "code",
   "execution_count": 9,
   "metadata": {},
   "outputs": [],
   "source": [
    "import pandas as pd\n",
    "import ast"
   ]
  },
  {
   "cell_type": "code",
   "execution_count": 10,
   "metadata": {},
   "outputs": [],
   "source": [
    "df = pd.read_csv('raw_data/CAFA3_training_data/training_set.csv')"
   ]
  },
  {
   "cell_type": "code",
   "execution_count": 11,
   "metadata": {},
   "outputs": [],
   "source": [
    "# Feed this file to UniProt ID Online Mapping tool: https://www.uniprot.org/id-mapping to obtained STRING IDs \n",
    "PID_list = df.PID.unique().tolist()\n",
    "with open(\"PID_list.txt\", \"w\") as f:\n",
    "    for pid in PID_list:\n",
    "        f.write(pid + \"\\n\")\n",
    "# "
   ]
  },
  {
   "cell_type": "code",
   "execution_count": 12,
   "metadata": {},
   "outputs": [],
   "source": [
    "# Say the mapping file downloaded from UniProt online tool named as \"UniProt2STRING.tsv\"\n",
    "uniprot_string_mapping = pd.read_csv('./raw_data/UniProt2STRING.tsv', sep='\\t')\n",
    "uniprot_string_mapping.rename(columns={'From': \"PID\", \"To\": \"STRING\"},inplace=True)"
   ]
  },
  {
   "cell_type": "code",
   "execution_count": 13,
   "metadata": {},
   "outputs": [],
   "source": [
    "merge_taxon = pd.merge(df, uniprot_string_mapping, left_on='PID', right_on='PID', how = 'left')"
   ]
  },
  {
   "cell_type": "code",
   "execution_count": 14,
   "metadata": {},
   "outputs": [],
   "source": [
    "merge_taxon.drop_duplicates(subset=[\"PID\"], keep=\"last\", inplace= True)"
   ]
  },
  {
   "cell_type": "code",
   "execution_count": 15,
   "metadata": {},
   "outputs": [],
   "source": [
    "# merge_taxon['TaxonID'] = merge_taxon['STRING'].apply(lambda x: x.split('.')[0])\n",
    "import numpy as np\n",
    "def extract_taxon_id(string_value):\n",
    "    if pd.isna(string_value):\n",
    "        return np.nan\n",
    "    return string_value.split('.')[0]\n",
    "\n",
    "merge_taxon['TaxonID'] = merge_taxon['STRING'].apply(extract_taxon_id)"
   ]
  },
  {
   "cell_type": "code",
   "execution_count": 16,
   "metadata": {},
   "outputs": [],
   "source": [
    "def safe_literal_eval(s):\n",
    "    try:\n",
    "        # 检查是否为空列表表示\n",
    "        if s == '[]':\n",
    "            return []\n",
    "        # 否则，尝试解析为列表\n",
    "        return ast.literal_eval(s)\n",
    "    except:\n",
    "        # 如果出现任何错误，返回原始字符串\n",
    "        return s\n",
    "\n",
    "# 假设df是您的DataFrame\n",
    "for column in ['BP', 'CC', 'MF']:\n",
    "    merge_taxon[column] = merge_taxon[column].apply(safe_literal_eval)"
   ]
  },
  {
   "cell_type": "code",
   "execution_count": 17,
   "metadata": {},
   "outputs": [],
   "source": [
    "# remove last row\n",
    "merge_taxon = merge_taxon[:-1]"
   ]
  },
  {
   "cell_type": "code",
   "execution_count": 18,
   "metadata": {},
   "outputs": [],
   "source": [
    "merge_taxon.set_index(\"PID\",inplace=True)\n",
    "merge_taxon.to_pickle(\"data/CAFA3/train_df.pkl\")"
   ]
  },
  {
   "cell_type": "code",
   "execution_count": 19,
   "metadata": {},
   "outputs": [
    {
     "data": {
      "text/plain": [
       "66841"
      ]
     },
     "execution_count": 19,
     "metadata": {},
     "output_type": "execute_result"
    }
   ],
   "source": [
    "len(merge_taxon)"
   ]
  },
  {
   "cell_type": "code",
   "execution_count": null,
   "metadata": {},
   "outputs": [],
   "source": [
    "df1 = pd.read_pickle(\"data/CAFA3/training_df.pkl\")\n",
    "df2 = pd.read_pickle(\"data/CAFA3/train_df.pkl\")\n",
    "\n",
    "all_row = df1.loc['all']\n",
    "all_row_filtered = all_row[df2.columns.intersection(all_row.index)].to_frame().T\n",
    "all_row_filtered.index = ['all']\n",
    "df2_combined = pd.concat([df2, all_row_filtered])\n",
    "df2_combined.to_pickle(\"data/CAFA3/train_df.pkl\")"
   ]
  },
  {
   "cell_type": "code",
   "execution_count": null,
   "metadata": {},
   "outputs": [],
   "source": []
  },
  {
   "cell_type": "code",
   "execution_count": 5,
   "metadata": {},
   "outputs": [],
   "source": [
    "# 2. Prepare for the test set\n",
    "import pandas as pd\n",
    "test_df = pd.read_pickle(\"data/CAFA3/test/test_df.pkl\")\n",
    "test_df.reset_index(inplace=True)\n",
    "test_df.rename(columns={\"index\": \"PID\"}, inplace=True)\n"
   ]
  },
  {
   "cell_type": "code",
   "execution_count": 6,
   "metadata": {},
   "outputs": [],
   "source": [
    "uid_dict = pd.read_pickle(\"data/CAFA3/test/test_uid.pkl\")"
   ]
  },
  {
   "cell_type": "code",
   "execution_count": 7,
   "metadata": {},
   "outputs": [],
   "source": [
    "test_df['mapped_id'] = test_df['PID'].map(uid_dict)"
   ]
  },
  {
   "cell_type": "code",
   "execution_count": 8,
   "metadata": {},
   "outputs": [
    {
     "data": {
      "text/plain": [
       "'Q9VS51'"
      ]
     },
     "execution_count": 8,
     "metadata": {},
     "output_type": "execute_result"
    }
   ],
   "source": [
    "uid_dict[\"T72270011510\"]"
   ]
  },
  {
   "cell_type": "code",
   "execution_count": 9,
   "metadata": {},
   "outputs": [],
   "source": [
    "uid_dict = pd.read_pickle(\"data/CAFA3/test/test_uid.pkl\")\n",
    "test_df['mapped_id'] = test_df['PID'].map(uid_dict)\n",
    "test_df = test_df[~test_df['mapped_id'].isna()]"
   ]
  },
  {
   "cell_type": "code",
   "execution_count": 10,
   "metadata": {},
   "outputs": [],
   "source": [
    "# Feed this file to UniProt ID Online Mapping tool: https://www.uniprot.org/id-mapping to obtained STRING IDs\n",
    "PID_list = test_df.mapped_id.unique().tolist()\n",
    "with open(\"data/CAFA3/test/test_PID_list.txt\", \"w\") as f:\n",
    "    for pid in PID_list:\n",
    "        f.write(pid + \"\\n\")\n",
    "# "
   ]
  },
  {
   "cell_type": "code",
   "execution_count": 11,
   "metadata": {},
   "outputs": [],
   "source": [
    "unid_string = pd.read_csv(\"data/CAFA3/test/test_uid2string.tsv\", sep=\"\\t\")\n",
    "merged_df = pd.merge(test_df, unid_string,\n",
    "                     left_on='mapped_id', right_on='From', how='left')\n",
    "merged_df.drop(columns=['mapped_id'], inplace=True)\n",
    "merged_df.rename(columns={\"From\": \"UID\", \"To\": \"STRING\"}, inplace=True)\n",
    "merged_df['length'] = merged_df.apply(lambda x: len(x['sequence']), axis=1)"
   ]
  },
  {
   "cell_type": "code",
   "execution_count": 12,
   "metadata": {},
   "outputs": [],
   "source": [
    "merged_df.drop_duplicates(subset=[\"PID\"], keep=\"last\", inplace= True)"
   ]
  },
  {
   "cell_type": "code",
   "execution_count": 13,
   "metadata": {},
   "outputs": [],
   "source": [
    "import numpy as np\n",
    "def extract_taxon_id(string_value):\n",
    "    if pd.isna(string_value):\n",
    "        return np.nan\n",
    "    return string_value.split('.')[0]\n",
    "merged_df['TaxonID'] = merged_df['STRING'].apply(extract_taxon_id)"
   ]
  },
  {
   "cell_type": "code",
   "execution_count": 14,
   "metadata": {},
   "outputs": [
    {
     "data": {
      "text/html": [
       "<div>\n",
       "<style scoped>\n",
       "    .dataframe tbody tr th:only-of-type {\n",
       "        vertical-align: middle;\n",
       "    }\n",
       "\n",
       "    .dataframe tbody tr th {\n",
       "        vertical-align: top;\n",
       "    }\n",
       "\n",
       "    .dataframe thead th {\n",
       "        text-align: right;\n",
       "    }\n",
       "</style>\n",
       "<table border=\"1\" class=\"dataframe\">\n",
       "  <thead>\n",
       "    <tr style=\"text-align: right;\">\n",
       "      <th></th>\n",
       "      <th>PID</th>\n",
       "      <th>BP</th>\n",
       "      <th>CC</th>\n",
       "      <th>MF</th>\n",
       "      <th>sequence</th>\n",
       "      <th>UID</th>\n",
       "      <th>STRING</th>\n",
       "      <th>length</th>\n",
       "      <th>TaxonID</th>\n",
       "    </tr>\n",
       "  </thead>\n",
       "  <tbody>\n",
       "    <tr>\n",
       "      <th>0</th>\n",
       "      <td>T100900000026</td>\n",
       "      <td>[GO:0030030, GO:0008150, GO:0065007, GO:000998...</td>\n",
       "      <td>[GO:0030054, GO:0005575, GO:0070160, GO:000591...</td>\n",
       "      <td>[GO:0003824, GO:0003924, GO:0016817, GO:001681...</td>\n",
       "      <td>MAESFKELDPDSSMGKALEMTCAIQNQLARILAEFEMTLERDVLQP...</td>\n",
       "      <td>P55194</td>\n",
       "      <td>10090.ENSMUSP00000052181</td>\n",
       "      <td>601</td>\n",
       "      <td>10090</td>\n",
       "    </tr>\n",
       "    <tr>\n",
       "      <th>1</th>\n",
       "      <td>T100900000046</td>\n",
       "      <td>[]</td>\n",
       "      <td>[]</td>\n",
       "      <td>[GO:0042802, GO:0003674, GO:0005515, GO:0005488]</td>\n",
       "      <td>MRLCIPQVLLALFLSMLTAPGEGSRRRATQEDTTQPALLRLSDHLL...</td>\n",
       "      <td>P23979</td>\n",
       "      <td>10090.ENSMUSP00000003826</td>\n",
       "      <td>487</td>\n",
       "      <td>10090</td>\n",
       "    </tr>\n",
       "    <tr>\n",
       "      <th>2</th>\n",
       "      <td>T100900000115</td>\n",
       "      <td>[GO:0044238, GO:0008150, GO:0008104, GO:004426...</td>\n",
       "      <td>[GO:0043226, GO:0005768, GO:0044444, GO:009879...</td>\n",
       "      <td>[GO:0016788, GO:0003674, GO:0016787, GO:000382...</td>\n",
       "      <td>MNNLSFSELCCLFCCPPCPGKIASKLAFLPPDPTYTLMCDESGSRW...</td>\n",
       "      <td>Q6AY17</td>\n",
       "      <td>10116.ENSRNOP00000047508</td>\n",
       "      <td>288</td>\n",
       "      <td>10116</td>\n",
       "    </tr>\n",
       "    <tr>\n",
       "      <th>3</th>\n",
       "      <td>T100900000116</td>\n",
       "      <td>[GO:0033365, GO:0009057, GO:0044238, GO:007072...</td>\n",
       "      <td>[GO:0014069, GO:0098794, GO:0045202, GO:000557...</td>\n",
       "      <td>[GO:0003824, GO:0016788, GO:0016790, GO:000367...</td>\n",
       "      <td>MPEPGPRMNGFSLGELCWLFCCPPCPSRIAAKLAFLPPEPTYTVLA...</td>\n",
       "      <td>B5DFK7</td>\n",
       "      <td>10116.ENSRNOP00000017362</td>\n",
       "      <td>320</td>\n",
       "      <td>10116</td>\n",
       "    </tr>\n",
       "    <tr>\n",
       "      <th>4</th>\n",
       "      <td>T100900000161</td>\n",
       "      <td>[GO:0042439, GO:0008150, GO:0071704, GO:190156...</td>\n",
       "      <td>[]</td>\n",
       "      <td>[GO:0052689, GO:0016298, GO:0003824, GO:001678...</td>\n",
       "      <td>MADDLEQQPQGWLSSWLPTWRPTSMSQLKNVEARILQCLQNKFLAR...</td>\n",
       "      <td>Q8VD66</td>\n",
       "      <td>10090.ENSMUSP00000044134</td>\n",
       "      <td>342</td>\n",
       "      <td>10090</td>\n",
       "    </tr>\n",
       "  </tbody>\n",
       "</table>\n",
       "</div>"
      ],
      "text/plain": [
       "             PID                                                 BP  \\\n",
       "0  T100900000026  [GO:0030030, GO:0008150, GO:0065007, GO:000998...   \n",
       "1  T100900000046                                                 []   \n",
       "2  T100900000115  [GO:0044238, GO:0008150, GO:0008104, GO:004426...   \n",
       "3  T100900000116  [GO:0033365, GO:0009057, GO:0044238, GO:007072...   \n",
       "4  T100900000161  [GO:0042439, GO:0008150, GO:0071704, GO:190156...   \n",
       "\n",
       "                                                  CC  \\\n",
       "0  [GO:0030054, GO:0005575, GO:0070160, GO:000591...   \n",
       "1                                                 []   \n",
       "2  [GO:0043226, GO:0005768, GO:0044444, GO:009879...   \n",
       "3  [GO:0014069, GO:0098794, GO:0045202, GO:000557...   \n",
       "4                                                 []   \n",
       "\n",
       "                                                  MF  \\\n",
       "0  [GO:0003824, GO:0003924, GO:0016817, GO:001681...   \n",
       "1   [GO:0042802, GO:0003674, GO:0005515, GO:0005488]   \n",
       "2  [GO:0016788, GO:0003674, GO:0016787, GO:000382...   \n",
       "3  [GO:0003824, GO:0016788, GO:0016790, GO:000367...   \n",
       "4  [GO:0052689, GO:0016298, GO:0003824, GO:001678...   \n",
       "\n",
       "                                            sequence     UID  \\\n",
       "0  MAESFKELDPDSSMGKALEMTCAIQNQLARILAEFEMTLERDVLQP...  P55194   \n",
       "1  MRLCIPQVLLALFLSMLTAPGEGSRRRATQEDTTQPALLRLSDHLL...  P23979   \n",
       "2  MNNLSFSELCCLFCCPPCPGKIASKLAFLPPDPTYTLMCDESGSRW...  Q6AY17   \n",
       "3  MPEPGPRMNGFSLGELCWLFCCPPCPSRIAAKLAFLPPEPTYTVLA...  B5DFK7   \n",
       "4  MADDLEQQPQGWLSSWLPTWRPTSMSQLKNVEARILQCLQNKFLAR...  Q8VD66   \n",
       "\n",
       "                     STRING  length TaxonID  \n",
       "0  10090.ENSMUSP00000052181     601   10090  \n",
       "1  10090.ENSMUSP00000003826     487   10090  \n",
       "2  10116.ENSRNOP00000047508     288   10116  \n",
       "3  10116.ENSRNOP00000017362     320   10116  \n",
       "4  10090.ENSMUSP00000044134     342   10090  "
      ]
     },
     "execution_count": 14,
     "metadata": {},
     "output_type": "execute_result"
    }
   ],
   "source": [
    "merged_df.head()"
   ]
  },
  {
   "cell_type": "code",
   "execution_count": 15,
   "metadata": {},
   "outputs": [],
   "source": [
    "merged_df.set_index(\"PID\",inplace=True)\n",
    "merged_df.to_pickle(\"data/CAFA3/test_df.pkl\")"
   ]
  },
  {
   "cell_type": "code",
   "execution_count": 16,
   "metadata": {},
   "outputs": [
    {
     "data": {
      "text/html": [
       "<div>\n",
       "<style scoped>\n",
       "    .dataframe tbody tr th:only-of-type {\n",
       "        vertical-align: middle;\n",
       "    }\n",
       "\n",
       "    .dataframe tbody tr th {\n",
       "        vertical-align: top;\n",
       "    }\n",
       "\n",
       "    .dataframe thead th {\n",
       "        text-align: right;\n",
       "    }\n",
       "</style>\n",
       "<table border=\"1\" class=\"dataframe\">\n",
       "  <thead>\n",
       "    <tr style=\"text-align: right;\">\n",
       "      <th></th>\n",
       "      <th>BP</th>\n",
       "      <th>CC</th>\n",
       "      <th>MF</th>\n",
       "      <th>sequence</th>\n",
       "      <th>UID</th>\n",
       "      <th>STRING</th>\n",
       "      <th>length</th>\n",
       "      <th>TaxonID</th>\n",
       "    </tr>\n",
       "    <tr>\n",
       "      <th>PID</th>\n",
       "      <th></th>\n",
       "      <th></th>\n",
       "      <th></th>\n",
       "      <th></th>\n",
       "      <th></th>\n",
       "      <th></th>\n",
       "      <th></th>\n",
       "      <th></th>\n",
       "    </tr>\n",
       "  </thead>\n",
       "  <tbody>\n",
       "    <tr>\n",
       "      <th>T100900000026</th>\n",
       "      <td>[GO:0030030, GO:0008150, GO:0065007, GO:000998...</td>\n",
       "      <td>[GO:0030054, GO:0005575, GO:0070160, GO:000591...</td>\n",
       "      <td>[GO:0003824, GO:0003924, GO:0016817, GO:001681...</td>\n",
       "      <td>MAESFKELDPDSSMGKALEMTCAIQNQLARILAEFEMTLERDVLQP...</td>\n",
       "      <td>P55194</td>\n",
       "      <td>10090.ENSMUSP00000052181</td>\n",
       "      <td>601</td>\n",
       "      <td>10090</td>\n",
       "    </tr>\n",
       "    <tr>\n",
       "      <th>T100900000046</th>\n",
       "      <td>[]</td>\n",
       "      <td>[]</td>\n",
       "      <td>[GO:0042802, GO:0003674, GO:0005515, GO:0005488]</td>\n",
       "      <td>MRLCIPQVLLALFLSMLTAPGEGSRRRATQEDTTQPALLRLSDHLL...</td>\n",
       "      <td>P23979</td>\n",
       "      <td>10090.ENSMUSP00000003826</td>\n",
       "      <td>487</td>\n",
       "      <td>10090</td>\n",
       "    </tr>\n",
       "    <tr>\n",
       "      <th>T100900000115</th>\n",
       "      <td>[GO:0044238, GO:0008150, GO:0008104, GO:004426...</td>\n",
       "      <td>[GO:0043226, GO:0005768, GO:0044444, GO:009879...</td>\n",
       "      <td>[GO:0016788, GO:0003674, GO:0016787, GO:000382...</td>\n",
       "      <td>MNNLSFSELCCLFCCPPCPGKIASKLAFLPPDPTYTLMCDESGSRW...</td>\n",
       "      <td>Q6AY17</td>\n",
       "      <td>10116.ENSRNOP00000047508</td>\n",
       "      <td>288</td>\n",
       "      <td>10116</td>\n",
       "    </tr>\n",
       "    <tr>\n",
       "      <th>T100900000116</th>\n",
       "      <td>[GO:0033365, GO:0009057, GO:0044238, GO:007072...</td>\n",
       "      <td>[GO:0014069, GO:0098794, GO:0045202, GO:000557...</td>\n",
       "      <td>[GO:0003824, GO:0016788, GO:0016790, GO:000367...</td>\n",
       "      <td>MPEPGPRMNGFSLGELCWLFCCPPCPSRIAAKLAFLPPEPTYTVLA...</td>\n",
       "      <td>B5DFK7</td>\n",
       "      <td>10116.ENSRNOP00000017362</td>\n",
       "      <td>320</td>\n",
       "      <td>10116</td>\n",
       "    </tr>\n",
       "    <tr>\n",
       "      <th>T100900000161</th>\n",
       "      <td>[GO:0042439, GO:0008150, GO:0071704, GO:190156...</td>\n",
       "      <td>[]</td>\n",
       "      <td>[GO:0052689, GO:0016298, GO:0003824, GO:001678...</td>\n",
       "      <td>MADDLEQQPQGWLSSWLPTWRPTSMSQLKNVEARILQCLQNKFLAR...</td>\n",
       "      <td>Q8VD66</td>\n",
       "      <td>10090.ENSMUSP00000044134</td>\n",
       "      <td>342</td>\n",
       "      <td>10090</td>\n",
       "    </tr>\n",
       "    <tr>\n",
       "      <th>...</th>\n",
       "      <td>...</td>\n",
       "      <td>...</td>\n",
       "      <td>...</td>\n",
       "      <td>...</td>\n",
       "      <td>...</td>\n",
       "      <td>...</td>\n",
       "      <td>...</td>\n",
       "      <td>...</td>\n",
       "    </tr>\n",
       "    <tr>\n",
       "      <th>T72270011510</th>\n",
       "      <td>[]</td>\n",
       "      <td>[]</td>\n",
       "      <td>[]</td>\n",
       "      <td>MEFARRVSARFETKRLPEDVDDGLETLEEYKQRWRSVRIIYFTMFL...</td>\n",
       "      <td>Q9VS51</td>\n",
       "      <td>7227.FBpp0304979</td>\n",
       "      <td>546</td>\n",
       "      <td>7227</td>\n",
       "    </tr>\n",
       "    <tr>\n",
       "      <th>T833330001696</th>\n",
       "      <td>[]</td>\n",
       "      <td>[]</td>\n",
       "      <td>[]</td>\n",
       "      <td>MASQLTDAFARKFYYLRLSITDVCNFRCTYCLPDGYKPSGVTNKGF...</td>\n",
       "      <td>P30745</td>\n",
       "      <td>511145.b0781</td>\n",
       "      <td>329</td>\n",
       "      <td>511145</td>\n",
       "    </tr>\n",
       "    <tr>\n",
       "      <th>T833330003120</th>\n",
       "      <td>[]</td>\n",
       "      <td>[]</td>\n",
       "      <td>[]</td>\n",
       "      <td>MSASALVCLAPGSEETEAVTTIDLLVRGGIKVTTASVASDGNLAIT...</td>\n",
       "      <td>Q46948</td>\n",
       "      <td>511145.b0424</td>\n",
       "      <td>196</td>\n",
       "      <td>511145</td>\n",
       "    </tr>\n",
       "    <tr>\n",
       "      <th>T96060015362</th>\n",
       "      <td>[]</td>\n",
       "      <td>[]</td>\n",
       "      <td>[]</td>\n",
       "      <td>MAGPNQLCIRRWTTKHVAVWLKDEGFFEYVDILCNKHRLDGITLLT...</td>\n",
       "      <td>Q96LT4</td>\n",
       "      <td>9606.ENSP00000500411</td>\n",
       "      <td>415</td>\n",
       "      <td>9606</td>\n",
       "    </tr>\n",
       "    <tr>\n",
       "      <th>T96060017725</th>\n",
       "      <td>[]</td>\n",
       "      <td>[]</td>\n",
       "      <td>[]</td>\n",
       "      <td>MRLTRKRLCSFLIALYCLFSLYAAYHVFFGRRRQAPAGSPRGLRKG...</td>\n",
       "      <td>Q9Y2B1</td>\n",
       "      <td>9606.ENSP00000261234</td>\n",
       "      <td>443</td>\n",
       "      <td>9606</td>\n",
       "    </tr>\n",
       "  </tbody>\n",
       "</table>\n",
       "<p>3320 rows × 8 columns</p>\n",
       "</div>"
      ],
      "text/plain": [
       "                                                              BP  \\\n",
       "PID                                                                \n",
       "T100900000026  [GO:0030030, GO:0008150, GO:0065007, GO:000998...   \n",
       "T100900000046                                                 []   \n",
       "T100900000115  [GO:0044238, GO:0008150, GO:0008104, GO:004426...   \n",
       "T100900000116  [GO:0033365, GO:0009057, GO:0044238, GO:007072...   \n",
       "T100900000161  [GO:0042439, GO:0008150, GO:0071704, GO:190156...   \n",
       "...                                                          ...   \n",
       "T72270011510                                                  []   \n",
       "T833330001696                                                 []   \n",
       "T833330003120                                                 []   \n",
       "T96060015362                                                  []   \n",
       "T96060017725                                                  []   \n",
       "\n",
       "                                                              CC  \\\n",
       "PID                                                                \n",
       "T100900000026  [GO:0030054, GO:0005575, GO:0070160, GO:000591...   \n",
       "T100900000046                                                 []   \n",
       "T100900000115  [GO:0043226, GO:0005768, GO:0044444, GO:009879...   \n",
       "T100900000116  [GO:0014069, GO:0098794, GO:0045202, GO:000557...   \n",
       "T100900000161                                                 []   \n",
       "...                                                          ...   \n",
       "T72270011510                                                  []   \n",
       "T833330001696                                                 []   \n",
       "T833330003120                                                 []   \n",
       "T96060015362                                                  []   \n",
       "T96060017725                                                  []   \n",
       "\n",
       "                                                              MF  \\\n",
       "PID                                                                \n",
       "T100900000026  [GO:0003824, GO:0003924, GO:0016817, GO:001681...   \n",
       "T100900000046   [GO:0042802, GO:0003674, GO:0005515, GO:0005488]   \n",
       "T100900000115  [GO:0016788, GO:0003674, GO:0016787, GO:000382...   \n",
       "T100900000116  [GO:0003824, GO:0016788, GO:0016790, GO:000367...   \n",
       "T100900000161  [GO:0052689, GO:0016298, GO:0003824, GO:001678...   \n",
       "...                                                          ...   \n",
       "T72270011510                                                  []   \n",
       "T833330001696                                                 []   \n",
       "T833330003120                                                 []   \n",
       "T96060015362                                                  []   \n",
       "T96060017725                                                  []   \n",
       "\n",
       "                                                        sequence     UID  \\\n",
       "PID                                                                        \n",
       "T100900000026  MAESFKELDPDSSMGKALEMTCAIQNQLARILAEFEMTLERDVLQP...  P55194   \n",
       "T100900000046  MRLCIPQVLLALFLSMLTAPGEGSRRRATQEDTTQPALLRLSDHLL...  P23979   \n",
       "T100900000115  MNNLSFSELCCLFCCPPCPGKIASKLAFLPPDPTYTLMCDESGSRW...  Q6AY17   \n",
       "T100900000116  MPEPGPRMNGFSLGELCWLFCCPPCPSRIAAKLAFLPPEPTYTVLA...  B5DFK7   \n",
       "T100900000161  MADDLEQQPQGWLSSWLPTWRPTSMSQLKNVEARILQCLQNKFLAR...  Q8VD66   \n",
       "...                                                          ...     ...   \n",
       "T72270011510   MEFARRVSARFETKRLPEDVDDGLETLEEYKQRWRSVRIIYFTMFL...  Q9VS51   \n",
       "T833330001696  MASQLTDAFARKFYYLRLSITDVCNFRCTYCLPDGYKPSGVTNKGF...  P30745   \n",
       "T833330003120  MSASALVCLAPGSEETEAVTTIDLLVRGGIKVTTASVASDGNLAIT...  Q46948   \n",
       "T96060015362   MAGPNQLCIRRWTTKHVAVWLKDEGFFEYVDILCNKHRLDGITLLT...  Q96LT4   \n",
       "T96060017725   MRLTRKRLCSFLIALYCLFSLYAAYHVFFGRRRQAPAGSPRGLRKG...  Q9Y2B1   \n",
       "\n",
       "                                 STRING  length TaxonID  \n",
       "PID                                                      \n",
       "T100900000026  10090.ENSMUSP00000052181     601   10090  \n",
       "T100900000046  10090.ENSMUSP00000003826     487   10090  \n",
       "T100900000115  10116.ENSRNOP00000047508     288   10116  \n",
       "T100900000116  10116.ENSRNOP00000017362     320   10116  \n",
       "T100900000161  10090.ENSMUSP00000044134     342   10090  \n",
       "...                                 ...     ...     ...  \n",
       "T72270011510           7227.FBpp0304979     546    7227  \n",
       "T833330001696              511145.b0781     329  511145  \n",
       "T833330003120              511145.b0424     196  511145  \n",
       "T96060015362       9606.ENSP00000500411     415    9606  \n",
       "T96060017725       9606.ENSP00000261234     443    9606  \n",
       "\n",
       "[3320 rows x 8 columns]"
      ]
     },
     "execution_count": 16,
     "metadata": {},
     "output_type": "execute_result"
    }
   ],
   "source": [
    "merged_df"
   ]
  },
  {
   "cell_type": "code",
   "execution_count": null,
   "metadata": {},
   "outputs": [],
   "source": []
  },
  {
   "cell_type": "code",
   "execution_count": null,
   "metadata": {},
   "outputs": [],
   "source": []
  },
  {
   "cell_type": "code",
   "execution_count": 60,
   "metadata": {},
   "outputs": [],
   "source": [
    "# 2. PDBch dataset preparation\n",
    "import pandas as pd\n",
    "train_df = pd.read_pickle(\"data/PDBch/pdbch_training_df.pkl\")\n",
    "train_df.reset_index(inplace=True)\n",
    "train_df.rename(columns={\"index\": \"PID\"}, inplace=True)"
   ]
  },
  {
   "cell_type": "code",
   "execution_count": null,
   "metadata": {},
   "outputs": [],
   "source": []
  },
  {
   "cell_type": "code",
   "execution_count": 61,
   "metadata": {},
   "outputs": [],
   "source": [
    "uid_dict = pd.read_pickle(\"data/PDBch/pdbch_uid_dict.pkl\")\n",
    "train_df['mapped_id'] = train_df['PID'].map(uid_dict)\n",
    "train_df = train_df[~train_df.mapped_id.isna()]\n",
    "# unid_string = pd.read_csv(\"data/test/test_uid2string.tsv\", sep=\"\\t\")"
   ]
  },
  {
   "cell_type": "code",
   "execution_count": 62,
   "metadata": {},
   "outputs": [],
   "source": [
    "PID_list = train_df.mapped_id.unique().tolist()\n",
    "with open(\"data/PDBch/pdbch_PID_list.txt\", \"w\") as f:\n",
    "    for pid in PID_list:\n",
    "        f.write(pid + \"\\n\")"
   ]
  },
  {
   "cell_type": "code",
   "execution_count": 63,
   "metadata": {},
   "outputs": [
    {
     "data": {
      "text/plain": [
       "27842"
      ]
     },
     "execution_count": 63,
     "metadata": {},
     "output_type": "execute_result"
    }
   ],
   "source": [
    "len(PID_list)"
   ]
  },
  {
   "cell_type": "code",
   "execution_count": 64,
   "metadata": {},
   "outputs": [],
   "source": [
    "unid_string = pd.read_csv(\"data/PDBch/train_uid2string.tsv\", sep=\"\\t\")\n",
    "merged_df = pd.merge(train_df, unid_string,\n",
    "                     left_on='mapped_id', right_on='From', how='left')\n",
    "merged_df.drop(columns=['mapped_id'], inplace=True)\n",
    "merged_df.rename(columns={\"From\": \"UID\", \"To\": \"STRING\"}, inplace=True)\n",
    "merged_df['length'] = merged_df.apply(lambda x: len(x['sequence']), axis=1)"
   ]
  },
  {
   "cell_type": "code",
   "execution_count": 65,
   "metadata": {},
   "outputs": [],
   "source": [
    "merged_df.drop_duplicates(subset=[\"PID\"], keep=\"last\", inplace= True)"
   ]
  },
  {
   "cell_type": "code",
   "execution_count": 66,
   "metadata": {},
   "outputs": [],
   "source": [
    "import numpy as np\n",
    "def extract_taxon_id(string_value):\n",
    "    if pd.isna(string_value):\n",
    "        return np.nan\n",
    "    return string_value.split('.')[0]\n",
    "merged_df['TaxonID'] = merged_df['STRING'].apply(extract_taxon_id)"
   ]
  },
  {
   "cell_type": "code",
   "execution_count": 67,
   "metadata": {},
   "outputs": [],
   "source": [
    "merged_df.set_index(\"PID\",inplace=True)\n",
    "merged_df.to_pickle(\"data/PDBch/train_df.pkl\")"
   ]
  },
  {
   "cell_type": "code",
   "execution_count": 104,
   "metadata": {},
   "outputs": [],
   "source": [
    "df1 = pd.read_pickle(\"data/PDBch/pdbch_training_df.pkl\")\n",
    "df2 = pd.read_pickle(\"data/PDBch/train_df.pkl\")\n",
    "\n",
    "all_row = df1.loc['all']\n",
    "all_row_filtered = all_row[df2.columns.intersection(all_row.index)].to_frame().T\n",
    "all_row_filtered.index = ['all']\n",
    "df2_combined = pd.concat([df2, all_row_filtered])\n",
    "df2_combined.to_pickle(\"data/PDBch/train_df.pkl\")"
   ]
  },
  {
   "cell_type": "code",
   "execution_count": null,
   "metadata": {},
   "outputs": [],
   "source": []
  },
  {
   "cell_type": "code",
   "execution_count": 68,
   "metadata": {},
   "outputs": [],
   "source": [
    "import pandas as pd\n",
    "test_df = pd.read_pickle(\"data/PDBch/pdbch_test_df.pkl\")\n",
    "test_df.reset_index(inplace=True)\n",
    "test_df.rename(columns={\"index\": \"PID\"}, inplace=True)"
   ]
  },
  {
   "cell_type": "code",
   "execution_count": 69,
   "metadata": {},
   "outputs": [],
   "source": [
    "uid_dict = pd.read_pickle(\"data/PDBch/pdbch_uid_dict.pkl\")\n",
    "test_df['mapped_id'] = test_df['PID'].map(uid_dict)\n",
    "test_df = test_df[~test_df.mapped_id.isna()]\n",
    "# unid_string = pd.read_csv(\"data/test/test_uid2string.tsv\", sep=\"\\t\")"
   ]
  },
  {
   "cell_type": "code",
   "execution_count": 70,
   "metadata": {},
   "outputs": [],
   "source": [
    "PID_list = test_df.mapped_id.unique().tolist()\n",
    "with open(\"data/PDBch/test/pdbch_test_PID_list.txt\", \"w\") as f:\n",
    "    for pid in PID_list:\n",
    "        f.write(pid + \"\\n\")"
   ]
  },
  {
   "cell_type": "code",
   "execution_count": 71,
   "metadata": {},
   "outputs": [],
   "source": [
    "unid_string = pd.read_csv(\"data/PDBch/test/test_uid2string.tsv\", sep=\"\\t\")\n",
    "merged_df = pd.merge(test_df, unid_string,\n",
    "                     left_on='mapped_id', right_on='From', how='left')\n",
    "merged_df.drop(columns=['mapped_id'], inplace=True)\n",
    "merged_df.rename(columns={\"From\": \"UID\", \"To\": \"STRING\"}, inplace=True)\n",
    "merged_df['length'] = merged_df.apply(lambda x: len(x['sequence']), axis=1)"
   ]
  },
  {
   "cell_type": "code",
   "execution_count": 72,
   "metadata": {},
   "outputs": [],
   "source": [
    "merged_df.drop_duplicates(subset=[\"PID\"], keep=\"last\", inplace= True)"
   ]
  },
  {
   "cell_type": "code",
   "execution_count": 73,
   "metadata": {},
   "outputs": [],
   "source": [
    "import numpy as np\n",
    "def extract_taxon_id(string_value):\n",
    "    if pd.isna(string_value):\n",
    "        return np.nan\n",
    "    return string_value.split('.')[0]\n",
    "merged_df['TaxonID'] = merged_df['STRING'].apply(extract_taxon_id)"
   ]
  },
  {
   "cell_type": "code",
   "execution_count": 74,
   "metadata": {},
   "outputs": [
    {
     "data": {
      "text/html": [
       "<div>\n",
       "<style scoped>\n",
       "    .dataframe tbody tr th:only-of-type {\n",
       "        vertical-align: middle;\n",
       "    }\n",
       "\n",
       "    .dataframe tbody tr th {\n",
       "        vertical-align: top;\n",
       "    }\n",
       "\n",
       "    .dataframe thead th {\n",
       "        text-align: right;\n",
       "    }\n",
       "</style>\n",
       "<table border=\"1\" class=\"dataframe\">\n",
       "  <thead>\n",
       "    <tr style=\"text-align: right;\">\n",
       "      <th></th>\n",
       "      <th>PID</th>\n",
       "      <th>BP</th>\n",
       "      <th>MF</th>\n",
       "      <th>CC</th>\n",
       "      <th>sequence</th>\n",
       "      <th>UID</th>\n",
       "      <th>STRING</th>\n",
       "      <th>length</th>\n",
       "      <th>TaxonID</th>\n",
       "    </tr>\n",
       "  </thead>\n",
       "  <tbody>\n",
       "    <tr>\n",
       "      <th>0</th>\n",
       "      <td>11AS-A</td>\n",
       "      <td>[GO:0006520, GO:0046394, GO:0006974, GO:003278...</td>\n",
       "      <td>[GO:0032559, GO:0017076, GO:0005524, GO:003563...</td>\n",
       "      <td>[GO:0005829]</td>\n",
       "      <td>MKTAYIAKQRQISFVKSHFSRQLEERLGLIEVQAPILSRVGDGTQD...</td>\n",
       "      <td>P00963</td>\n",
       "      <td>511145.b3744</td>\n",
       "      <td>330</td>\n",
       "      <td>511145</td>\n",
       "    </tr>\n",
       "    <tr>\n",
       "      <th>1</th>\n",
       "      <td>18GS-A</td>\n",
       "      <td>[GO:0032496, GO:0009966, GO:0031099, GO:000657...</td>\n",
       "      <td>[GO:0008144, GO:0004364, GO:0030234, GO:190168...</td>\n",
       "      <td>[GO:0031974, GO:0012505, GO:0030141, GO:010100...</td>\n",
       "      <td>MPPYTVVYFPVRGRCAALRMLLADQGQSWKEEVVTVETWQEGSLKA...</td>\n",
       "      <td>P09211</td>\n",
       "      <td>9606.ENSP00000381607</td>\n",
       "      <td>210</td>\n",
       "      <td>9606</td>\n",
       "    </tr>\n",
       "    <tr>\n",
       "      <th>2</th>\n",
       "      <td>1A0P-A</td>\n",
       "      <td>[GO:0009314, GO:0006310, GO:0051301, GO:000625...</td>\n",
       "      <td>[GO:0140097, GO:0003677]</td>\n",
       "      <td>[GO:1902494, GO:1905348]</td>\n",
       "      <td>QDLARIEQFLDALWLEKNLAENTLNAYRRDLSMMVEWLHHRGLTLA...</td>\n",
       "      <td>P0A8P8</td>\n",
       "      <td>511145.b2894</td>\n",
       "      <td>290</td>\n",
       "      <td>511145</td>\n",
       "    </tr>\n",
       "    <tr>\n",
       "      <th>3</th>\n",
       "      <td>1A22-A</td>\n",
       "      <td>[GO:0009966, GO:0048513, GO:0048017, GO:007170...</td>\n",
       "      <td>[GO:0005126, GO:0098772, GO:0030546, GO:005142...</td>\n",
       "      <td>[GO:0031974, GO:0043235, GO:0005768, GO:001250...</td>\n",
       "      <td>FPTIPLSRLFDNAMLRAHRLHQLAFDTYQEFEEAYIPKEQKYSFLQ...</td>\n",
       "      <td>P01241</td>\n",
       "      <td>9606.ENSP00000312673</td>\n",
       "      <td>191</td>\n",
       "      <td>9606</td>\n",
       "    </tr>\n",
       "    <tr>\n",
       "      <th>4</th>\n",
       "      <td>1A4E-A</td>\n",
       "      <td>[GO:0006979, GO:0098754, GO:1901700, GO:001003...</td>\n",
       "      <td>[GO:0016209, GO:0004601, GO:0046906, GO:001668...</td>\n",
       "      <td>[GO:0031974, GO:0005777, GO:0070013, GO:000573...</td>\n",
       "      <td>DVREDRVVTNSTGNPINEPFVTQRIGEHGPLLLQDYNLIDSLAHFN...</td>\n",
       "      <td>P15202</td>\n",
       "      <td>4932.YDR256C</td>\n",
       "      <td>488</td>\n",
       "      <td>4932</td>\n",
       "    </tr>\n",
       "    <tr>\n",
       "      <th>...</th>\n",
       "      <td>...</td>\n",
       "      <td>...</td>\n",
       "      <td>...</td>\n",
       "      <td>...</td>\n",
       "      <td>...</td>\n",
       "      <td>...</td>\n",
       "      <td>...</td>\n",
       "      <td>...</td>\n",
       "      <td>...</td>\n",
       "    </tr>\n",
       "    <tr>\n",
       "      <th>3409</th>\n",
       "      <td>6R3V-A</td>\n",
       "      <td>[GO:0009966, GO:0071702, GO:0046907, GO:004852...</td>\n",
       "      <td>[GO:0030234, GO:0019904, GO:0098772, GO:003126...</td>\n",
       "      <td>[GO:0098805, GO:0005768, GO:0012505, GO:000557...</td>\n",
       "      <td>MDPLSELQDDLTLDDTSEALNQLKLASIDEKNWPSDEMPDFPKSDD...</td>\n",
       "      <td>Q07960</td>\n",
       "      <td>9606.ENSP00000310491</td>\n",
       "      <td>439</td>\n",
       "      <td>9606</td>\n",
       "    </tr>\n",
       "    <tr>\n",
       "      <th>3410</th>\n",
       "      <td>6R5K-D</td>\n",
       "      <td>[GO:0051236, GO:0071702, GO:0031326, GO:001060...</td>\n",
       "      <td>[GO:0030234, GO:0098772, GO:0019901, GO:000485...</td>\n",
       "      <td>[GO:0035770, GO:0043228, GO:0005840, GO:199090...</td>\n",
       "      <td>GPDSMADITDKTAEQLENLNIQDDQKQAATGSESQSVENSSASLYV...</td>\n",
       "      <td>P04147</td>\n",
       "      <td>4932.YER165W</td>\n",
       "      <td>581</td>\n",
       "      <td>4932</td>\n",
       "    </tr>\n",
       "    <tr>\n",
       "      <th>3411</th>\n",
       "      <td>6R7Z-A</td>\n",
       "      <td>[GO:0034220, GO:0015698, GO:0006812, GO:005117...</td>\n",
       "      <td>[GO:0022857, GO:0015103, GO:0005216, GO:002280...</td>\n",
       "      <td>[GO:0071944, GO:0031224, GO:0016021, GO:0005886]</td>\n",
       "      <td>MKVTLSALDTSESSFTPLVVIELAQDVKEETKEWLKNRIIAKKKDG...</td>\n",
       "      <td>Q9NW15</td>\n",
       "      <td>9606.ENSP00000292246</td>\n",
       "      <td>667</td>\n",
       "      <td>9606</td>\n",
       "    </tr>\n",
       "    <tr>\n",
       "      <th>3412</th>\n",
       "      <td>7ODC-A</td>\n",
       "      <td>[GO:0048513, GO:0048522, GO:0006520, GO:000657...</td>\n",
       "      <td>[GO:0016829, GO:0042803, GO:0016830, GO:004280...</td>\n",
       "      <td>[GO:0048471, GO:0005829]</td>\n",
       "      <td>MSSFTKDEFDCHILDEGFTAKDILDQKINEVSSSDDKDAFYVADLG...</td>\n",
       "      <td>P00860</td>\n",
       "      <td>10090.ENSMUSP00000128661</td>\n",
       "      <td>424</td>\n",
       "      <td>10090</td>\n",
       "    </tr>\n",
       "    <tr>\n",
       "      <th>3413</th>\n",
       "      <td>7PCK-A</td>\n",
       "      <td>[GO:0048513, GO:0006508, GO:0022411, GO:003019...</td>\n",
       "      <td>[GO:0070011, GO:0008234, GO:0004197, GO:000823...</td>\n",
       "      <td>[GO:0031974, GO:0031981, GO:0005773, GO:000576...</td>\n",
       "      <td>LYPEEILDTHWELWKKTHRKQYNNKVDEISRRLIWEKNLKYISIHN...</td>\n",
       "      <td>P43235</td>\n",
       "      <td>9606.ENSP00000271651</td>\n",
       "      <td>314</td>\n",
       "      <td>9606</td>\n",
       "    </tr>\n",
       "  </tbody>\n",
       "</table>\n",
       "<p>3414 rows × 9 columns</p>\n",
       "</div>"
      ],
      "text/plain": [
       "         PID                                                 BP  \\\n",
       "0     11AS-A  [GO:0006520, GO:0046394, GO:0006974, GO:003278...   \n",
       "1     18GS-A  [GO:0032496, GO:0009966, GO:0031099, GO:000657...   \n",
       "2     1A0P-A  [GO:0009314, GO:0006310, GO:0051301, GO:000625...   \n",
       "3     1A22-A  [GO:0009966, GO:0048513, GO:0048017, GO:007170...   \n",
       "4     1A4E-A  [GO:0006979, GO:0098754, GO:1901700, GO:001003...   \n",
       "...      ...                                                ...   \n",
       "3409  6R3V-A  [GO:0009966, GO:0071702, GO:0046907, GO:004852...   \n",
       "3410  6R5K-D  [GO:0051236, GO:0071702, GO:0031326, GO:001060...   \n",
       "3411  6R7Z-A  [GO:0034220, GO:0015698, GO:0006812, GO:005117...   \n",
       "3412  7ODC-A  [GO:0048513, GO:0048522, GO:0006520, GO:000657...   \n",
       "3413  7PCK-A  [GO:0048513, GO:0006508, GO:0022411, GO:003019...   \n",
       "\n",
       "                                                     MF  \\\n",
       "0     [GO:0032559, GO:0017076, GO:0005524, GO:003563...   \n",
       "1     [GO:0008144, GO:0004364, GO:0030234, GO:190168...   \n",
       "2                              [GO:0140097, GO:0003677]   \n",
       "3     [GO:0005126, GO:0098772, GO:0030546, GO:005142...   \n",
       "4     [GO:0016209, GO:0004601, GO:0046906, GO:001668...   \n",
       "...                                                 ...   \n",
       "3409  [GO:0030234, GO:0019904, GO:0098772, GO:003126...   \n",
       "3410  [GO:0030234, GO:0098772, GO:0019901, GO:000485...   \n",
       "3411  [GO:0022857, GO:0015103, GO:0005216, GO:002280...   \n",
       "3412  [GO:0016829, GO:0042803, GO:0016830, GO:004280...   \n",
       "3413  [GO:0070011, GO:0008234, GO:0004197, GO:000823...   \n",
       "\n",
       "                                                     CC  \\\n",
       "0                                          [GO:0005829]   \n",
       "1     [GO:0031974, GO:0012505, GO:0030141, GO:010100...   \n",
       "2                              [GO:1902494, GO:1905348]   \n",
       "3     [GO:0031974, GO:0043235, GO:0005768, GO:001250...   \n",
       "4     [GO:0031974, GO:0005777, GO:0070013, GO:000573...   \n",
       "...                                                 ...   \n",
       "3409  [GO:0098805, GO:0005768, GO:0012505, GO:000557...   \n",
       "3410  [GO:0035770, GO:0043228, GO:0005840, GO:199090...   \n",
       "3411   [GO:0071944, GO:0031224, GO:0016021, GO:0005886]   \n",
       "3412                           [GO:0048471, GO:0005829]   \n",
       "3413  [GO:0031974, GO:0031981, GO:0005773, GO:000576...   \n",
       "\n",
       "                                               sequence     UID  \\\n",
       "0     MKTAYIAKQRQISFVKSHFSRQLEERLGLIEVQAPILSRVGDGTQD...  P00963   \n",
       "1     MPPYTVVYFPVRGRCAALRMLLADQGQSWKEEVVTVETWQEGSLKA...  P09211   \n",
       "2     QDLARIEQFLDALWLEKNLAENTLNAYRRDLSMMVEWLHHRGLTLA...  P0A8P8   \n",
       "3     FPTIPLSRLFDNAMLRAHRLHQLAFDTYQEFEEAYIPKEQKYSFLQ...  P01241   \n",
       "4     DVREDRVVTNSTGNPINEPFVTQRIGEHGPLLLQDYNLIDSLAHFN...  P15202   \n",
       "...                                                 ...     ...   \n",
       "3409  MDPLSELQDDLTLDDTSEALNQLKLASIDEKNWPSDEMPDFPKSDD...  Q07960   \n",
       "3410  GPDSMADITDKTAEQLENLNIQDDQKQAATGSESQSVENSSASLYV...  P04147   \n",
       "3411  MKVTLSALDTSESSFTPLVVIELAQDVKEETKEWLKNRIIAKKKDG...  Q9NW15   \n",
       "3412  MSSFTKDEFDCHILDEGFTAKDILDQKINEVSSSDDKDAFYVADLG...  P00860   \n",
       "3413  LYPEEILDTHWELWKKTHRKQYNNKVDEISRRLIWEKNLKYISIHN...  P43235   \n",
       "\n",
       "                        STRING  length TaxonID  \n",
       "0                 511145.b3744     330  511145  \n",
       "1         9606.ENSP00000381607     210    9606  \n",
       "2                 511145.b2894     290  511145  \n",
       "3         9606.ENSP00000312673     191    9606  \n",
       "4                 4932.YDR256C     488    4932  \n",
       "...                        ...     ...     ...  \n",
       "3409      9606.ENSP00000310491     439    9606  \n",
       "3410              4932.YER165W     581    4932  \n",
       "3411      9606.ENSP00000292246     667    9606  \n",
       "3412  10090.ENSMUSP00000128661     424   10090  \n",
       "3413      9606.ENSP00000271651     314    9606  \n",
       "\n",
       "[3414 rows x 9 columns]"
      ]
     },
     "execution_count": 74,
     "metadata": {},
     "output_type": "execute_result"
    }
   ],
   "source": [
    "merged_df"
   ]
  },
  {
   "cell_type": "code",
   "execution_count": 75,
   "metadata": {},
   "outputs": [],
   "source": [
    "merged_df.set_index(\"PID\",inplace=True)\n",
    "merged_df.to_pickle(\"data/PDBch/test_df.pkl\")"
   ]
  },
  {
   "cell_type": "code",
   "execution_count": null,
   "metadata": {},
   "outputs": [],
   "source": []
  }
 ],
 "metadata": {
  "kernelspec": {
   "display_name": "go",
   "language": "python",
   "name": "python3"
  },
  "language_info": {
   "codemirror_mode": {
    "name": "ipython",
    "version": 3
   },
   "file_extension": ".py",
   "mimetype": "text/x-python",
   "name": "python",
   "nbconvert_exporter": "python",
   "pygments_lexer": "ipython3",
   "version": "3.9.21"
  }
 },
 "nbformat": 4,
 "nbformat_minor": 2
}
